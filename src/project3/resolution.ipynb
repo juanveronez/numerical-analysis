{
 "cells": [
  {
   "cell_type": "code",
   "execution_count": 1,
   "metadata": {},
   "outputs": [],
   "source": [
    "import pandas as pd\n",
    "from ortools.linear_solver import pywraplp"
   ]
  },
  {
   "cell_type": "code",
   "execution_count": 2,
   "metadata": {},
   "outputs": [],
   "source": [
    "solver = pywraplp.Solver.CreateSolver('GLOP')"
   ]
  },
  {
   "cell_type": "markdown",
   "metadata": {},
   "source": [
    "# Load Data"
   ]
  },
  {
   "cell_type": "code",
   "execution_count": 3,
   "metadata": {},
   "outputs": [
    {
     "data": {
      "text/html": [
       "<div>\n",
       "<style scoped>\n",
       "    .dataframe tbody tr th:only-of-type {\n",
       "        vertical-align: middle;\n",
       "    }\n",
       "\n",
       "    .dataframe tbody tr th {\n",
       "        vertical-align: top;\n",
       "    }\n",
       "\n",
       "    .dataframe thead th {\n",
       "        text-align: right;\n",
       "    }\n",
       "</style>\n",
       "<table border=\"1\" class=\"dataframe\">\n",
       "  <thead>\n",
       "    <tr style=\"text-align: right;\">\n",
       "      <th></th>\n",
       "      <th>minimo</th>\n",
       "    </tr>\n",
       "    <tr>\n",
       "      <th>nome</th>\n",
       "      <th></th>\n",
       "    </tr>\n",
       "  </thead>\n",
       "  <tbody>\n",
       "    <tr>\n",
       "      <th>Calories (kcal)</th>\n",
       "      <td>3.0</td>\n",
       "    </tr>\n",
       "    <tr>\n",
       "      <th>Protein (g)</th>\n",
       "      <td>70.0</td>\n",
       "    </tr>\n",
       "    <tr>\n",
       "      <th>Calcium (g)</th>\n",
       "      <td>0.8</td>\n",
       "    </tr>\n",
       "    <tr>\n",
       "      <th>Iron (mg)</th>\n",
       "      <td>12.0</td>\n",
       "    </tr>\n",
       "    <tr>\n",
       "      <th>Vitamin A (KIU)</th>\n",
       "      <td>5.0</td>\n",
       "    </tr>\n",
       "    <tr>\n",
       "      <th>Vitamin B1 (mg)</th>\n",
       "      <td>1.8</td>\n",
       "    </tr>\n",
       "    <tr>\n",
       "      <th>Vitamin B2 (mg)</th>\n",
       "      <td>2.7</td>\n",
       "    </tr>\n",
       "    <tr>\n",
       "      <th>Niacin (mg)</th>\n",
       "      <td>18.0</td>\n",
       "    </tr>\n",
       "    <tr>\n",
       "      <th>Vitamin C (mg)</th>\n",
       "      <td>75.0</td>\n",
       "    </tr>\n",
       "  </tbody>\n",
       "</table>\n",
       "</div>"
      ],
      "text/plain": [
       "                 minimo\n",
       "nome                   \n",
       "Calories (kcal)     3.0\n",
       "Protein (g)        70.0\n",
       "Calcium (g)         0.8\n",
       "Iron (mg)          12.0\n",
       "Vitamin A (KIU)     5.0\n",
       "Vitamin B1 (mg)     1.8\n",
       "Vitamin B2 (mg)     2.7\n",
       "Niacin (mg)        18.0\n",
       "Vitamin C (mg)     75.0"
      ]
     },
     "execution_count": 3,
     "metadata": {},
     "output_type": "execute_result"
    }
   ],
   "source": [
    "nutrientes = pd.read_csv('https://raw.githubusercontent.com/viniciusdenovaes/UnipCN/refs/heads/main/aulaORTools/trabalho/nutrientes.csv')\n",
    "nutrientes.set_index('nome', inplace=True)\n",
    "nutrientes"
   ]
  },
  {
   "cell_type": "code",
   "execution_count": 4,
   "metadata": {},
   "outputs": [],
   "source": [
    "data = pd.read_csv('https://raw.githubusercontent.com/viniciusdenovaes/UnipCN/refs/heads/main/aulaORTools/trabalho/data.csv')\n"
   ]
  },
  {
   "cell_type": "markdown",
   "metadata": {},
   "source": [
    "# Otimização"
   ]
  },
  {
   "cell_type": "code",
   "execution_count": 5,
   "metadata": {},
   "outputs": [],
   "source": [
    "solver = pywraplp.Solver.CreateSolver('GLOP')"
   ]
  },
  {
   "cell_type": "code",
   "execution_count": 6,
   "metadata": {},
   "outputs": [
    {
     "name": "stdout",
     "output_type": "stream",
     "text": [
      "Number of variables: 77\n"
     ]
    }
   ],
   "source": [
    "variable_names = data['ingrediente'].to_list()\n",
    "\n",
    "variables = []\n",
    "for name in variable_names:\n",
    "    variables.append(solver.NumVar(0, solver.infinity(), name))\n",
    "\n",
    "print(f'Number of variables: {solver.NumVariables()}')"
   ]
  },
  {
   "cell_type": "code",
   "execution_count": 7,
   "metadata": {},
   "outputs": [],
   "source": [
    "objective = solver.Objective()\n",
    "for var, o in zip(variables, data['preco'].to_list()):\n",
    "    objective.SetCoefficient(var, o)\n",
    "objective.SetMinimization()#%%"
   ]
  },
  {
   "cell_type": "code",
   "execution_count": 8,
   "metadata": {},
   "outputs": [
    {
     "name": "stdout",
     "output_type": "stream",
     "text": [
      "Number of constraints: 9\n"
     ]
    }
   ],
   "source": [
    "for nutri in nutrientes.index:\n",
    "  name = f'restricao_{nutri}'\n",
    "  \n",
    "  target = nutrientes.loc[nutri, 'minimo']\n",
    "  values = data[nutri].to_list()\n",
    "\n",
    "  c = solver.Constraint(target, solver.infinity(), name)\n",
    "  \n",
    "  for var, value in zip(variables, values):\n",
    "        c.SetCoefficient(var, value)\n",
    "  \n",
    "print(f'Number of constraints: {solver.NumConstraints()}')"
   ]
  },
  {
   "cell_type": "markdown",
   "metadata": {},
   "source": [
    "# Resultados"
   ]
  },
  {
   "cell_type": "code",
   "execution_count": 9,
   "metadata": {},
   "outputs": [
    {
     "name": "stdout",
     "output_type": "stream",
     "text": [
      "\\ Generated by MPModelProtoExporter\n",
      "\\   Name             : \n",
      "\\   Format           : Free\n",
      "\\   Constraints      : 9\n",
      "\\   Variables        : 77\n",
      "\\     Binary         : 0\n",
      "\\     Integer        : 0\n",
      "\\     Continuous     : 77\n",
      "Minimize\n",
      " Obj: +36 Wheat_Flour_(Enriched) +14.1 Macaroni +24.2 Wheat_Cereal_(Enriched) +7.1 Corn_Flakes +4.6 Corn_Meal +8.5 Hominy_Grits +7.5 Rice +7.1 Rolled_Oats +7.9 White_Bread_(Enriched) +9.1 Whole_Wheat_Bread +9.1 Rye_Bread +24.8 Pound_Cake +15.1 Soda_Crackers +11 Milk +6.7 Evaporated_Milk_(can) +30.8 Butter +16.1 Oleomargarine +32.6 Eggs +24.2 Cheese_(Cheddar) +14.1 Cream +17.9 Peanut_Butter +16.7 Mayonnaise +20.3 Crisco +9.8 Lard +39.6 Sirloin_Steak +36.4 Round_Steak +29.2 Rib_Roast +22.6 Chuck_Roast +14.6 Plate +26.8 Liver_(Beef) +27.6 Leg_of_Lamb +36.6 Lamb_Chops_(Rib) +30.7 Pork_Chops +24.2 Pork_Loin_Roast +25.6 Bacon +27.4 Ham,_smoked +16 Salt_Pork +30.3 Roasting_Chicken +42.3 Veal_Cutlets +13 Salmon,_Pink_(can) +4.4 Apples +6.1 Bananas +26 Lemons +30.9 Oranges +7.1 Green_Beans +3.7 Cabbage +4.7 Carrots +7.3 Celery +8.2 Lettuce +3.6 Onions +34 Potatoes +8.1 Spinach +5.1 Sweet_Potatoes +16.8 Peaches_(can) +20.4 Pears_(can) +21.3 Pineapple_(can) +27.7 Asparagus_(can) +10 Green_Beans_(can) +7.1 Pork_and_Beans_(can) +10.4 Corn_(can) +13.8 Peas_(can) +8.6 Tomatoes_(can) +7.6 Tomato_Soup_(can) +15.7 Peaches,_Dried +9 Prunes,_Dried +9.4 Raisins,_Dried +7.9 Peas,_Dried +8.9 Lima_Beans,_Dried +5.9 Navy_Beans,_Dried +22.4 Coffee +17.4 Tea +8.6 Cocoa +16.2 Chocolate +51.7 Sugar +13.7 Corn_Syrup +13.6 Molasses +20.5 Strawberry_Preserves \n",
      "Subject to\n",
      " restricao_Calories_(kcal): +44.7 Wheat_Flour_(Enriched) +11.6 Macaroni +11.8 Wheat_Cereal_(Enriched) +11.4 Corn_Flakes +36 Corn_Meal +28.6 Hominy_Grits +21.2 Rice +25.3 Rolled_Oats +15 White_Bread_(Enriched) +12.2 Whole_Wheat_Bread +12.4 Rye_Bread +8 Pound_Cake +12.5 Soda_Crackers +6.1 Milk +8.4 Evaporated_Milk_(can) +10.8 Butter +20.6 Oleomargarine +2.9 Eggs +7.4 Cheese_(Cheddar) +3.5 Cream +15.7 Peanut_Butter +8.6 Mayonnaise +20.1 Crisco +41.7 Lard +2.9 Sirloin_Steak +2.2 Round_Steak +3.4 Rib_Roast +3.6 Chuck_Roast +8.5 Plate +2.2 Liver_(Beef) +3.1 Leg_of_Lamb +3.3 Lamb_Chops_(Rib) +3.5 Pork_Chops +4.4 Pork_Loin_Roast +10.4 Bacon +6.7 Ham,_smoked +18.8 Salt_Pork +1.8 Roasting_Chicken +1.7 Veal_Cutlets +5.8 Salmon,_Pink_(can) +5.8 Apples +4.9 Bananas +1 Lemons +2.2 Oranges +2.4 Green_Beans +2.6 Cabbage +2.7 Carrots +0.9 Celery +0.4 Lettuce +5.8 Onions +14.3 Potatoes +1.1 Spinach +9.6 Sweet_Potatoes +3.7 Peaches_(can) +3 Pears_(can) +2.4 Pineapple_(can) +0.4 Asparagus_(can) +1 Green_Beans_(can) +7.5 Pork_and_Beans_(can) +5.2 Corn_(can) +2.3 Peas_(can) +1.3 Tomatoes_(can) +1.6 Tomato_Soup_(can) +8.5 Peaches,_Dried +12.8 Prunes,_Dried +13.5 Raisins,_Dried +20 Peas,_Dried +17.4 Lima_Beans,_Dried +26.9 Navy_Beans,_Dried +8.7 Cocoa +8 Chocolate +34.9 Sugar +14.7 Corn_Syrup +9 Molasses +6.4 Strawberry_Preserves  >= 3\n",
      " restricao_Protein_(g): +1411 Wheat_Flour_(Enriched) +418 Macaroni +377 Wheat_Cereal_(Enriched) +252 Corn_Flakes +897 Corn_Meal +680 Hominy_Grits +460 Rice +907 Rolled_Oats +488 White_Bread_(Enriched) +484 Whole_Wheat_Bread +439 Rye_Bread +130 Pound_Cake +288 Soda_Crackers +310 Milk +422 Evaporated_Milk_(can) +9 Butter +17 Oleomargarine +238 Eggs +448 Cheese_(Cheddar) +49 Cream +661 Peanut_Butter +18 Mayonnaise +166 Sirloin_Steak +214 Round_Steak +213 Rib_Roast +309 Chuck_Roast +404 Plate +333 Liver_(Beef) +245 Leg_of_Lamb +140 Lamb_Chops_(Rib) +196 Pork_Chops +249 Pork_Loin_Roast +152 Bacon +212 Ham,_smoked +164 Salt_Pork +184 Roasting_Chicken +156 Veal_Cutlets +705 Salmon,_Pink_(can) +27 Apples +60 Bananas +21 Lemons +40 Oranges +138 Green_Beans +125 Cabbage +73 Carrots +51 Celery +27 Lettuce +166 Onions +336 Potatoes +106 Spinach +138 Sweet_Potatoes +20 Peaches_(can) +8 Pears_(can) +16 Pineapple_(can) +33 Asparagus_(can) +54 Green_Beans_(can) +364 Pork_and_Beans_(can) +136 Corn_(can) +136 Peas_(can) +63 Tomatoes_(can) +71 Tomato_Soup_(can) +87 Peaches,_Dried +99 Prunes,_Dried +104 Raisins,_Dried +1367 Peas,_Dried +1055 Lima_Beans,_Dried +1691 Navy_Beans,_Dried +237 Cocoa +77 Chocolate +11 Strawberry_Preserves  >= 70\n",
      " restricao_Calcium_(g): +2 Wheat_Flour_(Enriched) +0.7 Macaroni +14.4 Wheat_Cereal_(Enriched) +0.1 Corn_Flakes +1.7 Corn_Meal +0.8 Hominy_Grits +0.6 Rice +5.1 Rolled_Oats +2.5 White_Bread_(Enriched) +2.7 Whole_Wheat_Bread +1.1 Rye_Bread +0.4 Pound_Cake +0.5 Soda_Crackers +10.5 Milk +15.1 Evaporated_Milk_(can) +0.2 Butter +0.6 Oleomargarine +1 Eggs +16.4 Cheese_(Cheddar) +1.7 Cream +1 Peanut_Butter +0.2 Mayonnaise +0.1 Sirloin_Steak +0.1 Round_Steak +0.1 Rib_Roast +0.2 Chuck_Roast +0.2 Plate +0.2 Liver_(Beef) +0.1 Leg_of_Lamb +0.1 Lamb_Chops_(Rib) +0.2 Pork_Chops +0.3 Pork_Loin_Roast +0.2 Bacon +0.2 Ham,_smoked +0.1 Salt_Pork +0.1 Roasting_Chicken +0.1 Veal_Cutlets +6.8 Salmon,_Pink_(can) +0.5 Apples +0.4 Bananas +0.5 Lemons +1.1 Oranges +3.7 Green_Beans +4 Cabbage +2.8 Carrots +3 Celery +1.1 Lettuce +3.8 Onions +1.8 Potatoes +2.7 Sweet_Potatoes +0.4 Peaches_(can) +0.3 Pears_(can) +0.4 Pineapple_(can) +0.3 Asparagus_(can) +2 Green_Beans_(can) +4 Pork_and_Beans_(can) +0.2 Corn_(can) +0.6 Peas_(can) +0.7 Tomatoes_(can) +0.6 Tomato_Soup_(can) +1.7 Peaches,_Dried +2.5 Prunes,_Dried +2.5 Raisins,_Dried +4.2 Peas,_Dried +3.7 Lima_Beans,_Dried +11.4 Navy_Beans,_Dried +3 Cocoa +1.3 Chocolate +0.5 Corn_Syrup +10.3 Molasses +0.4 Strawberry_Preserves  >= 0.8\n",
      " restricao_Iron_(mg): +365 Wheat_Flour_(Enriched) +54 Macaroni +175 Wheat_Cereal_(Enriched) +56 Corn_Flakes +99 Corn_Meal +80 Hominy_Grits +41 Rice +341 Rolled_Oats +115 White_Bread_(Enriched) +125 Whole_Wheat_Bread +82 Rye_Bread +31 Pound_Cake +50 Soda_Crackers +18 Milk +9 Evaporated_Milk_(can) +3 Butter +6 Oleomargarine +52 Eggs +19 Cheese_(Cheddar) +3 Cream +48 Peanut_Butter +8 Mayonnaise +34 Sirloin_Steak +32 Round_Steak +33 Rib_Roast +46 Chuck_Roast +62 Plate +139 Liver_(Beef) +20 Leg_of_Lamb +15 Lamb_Chops_(Rib) +30 Pork_Chops +37 Pork_Loin_Roast +23 Bacon +31 Ham,_smoked +26 Salt_Pork +30 Roasting_Chicken +24 Veal_Cutlets +45 Salmon,_Pink_(can) +36 Apples +30 Bananas +14 Lemons +18 Oranges +80 Green_Beans +36 Cabbage +43 Carrots +23 Celery +22 Lettuce +59 Onions +118 Potatoes +138 Spinach +54 Sweet_Potatoes +10 Peaches_(can) +8 Pears_(can) +8 Pineapple_(can) +12 Asparagus_(can) +65 Green_Beans_(can) +134 Pork_and_Beans_(can) +16 Corn_(can) +45 Peas_(can) +38 Tomatoes_(can) +43 Tomato_Soup_(can) +173 Peaches,_Dried +154 Prunes,_Dried +136 Raisins,_Dried +345 Peas,_Dried +459 Lima_Beans,_Dried +792 Navy_Beans,_Dried +72 Cocoa +39 Chocolate +74 Corn_Syrup +244 Molasses +7 Strawberry_Preserves  >= 12\n",
      " restricao_Vitamin_A_(KIU): +30.9 Corn_Meal +18.9 Pound_Cake +16.8 Milk +26 Evaporated_Milk_(can) +44.2 Butter +55.8 Oleomargarine +18.6 Eggs +28.1 Cheese_(Cheddar) +16.9 Cream +2.7 Mayonnaise +0.2 Lard +0.2 Sirloin_Steak +0.4 Round_Steak +0.4 Chuck_Roast +169.2 Liver_(Beef) +0.1 Roasting_Chicken +3.5 Salmon,_Pink_(can) +7.3 Apples +17.4 Bananas +11.1 Oranges +69 Green_Beans +7.2 Cabbage +188.5 Carrots +0.9 Celery +112.4 Lettuce +16.6 Onions +6.7 Potatoes +918.4 Spinach +290.7 Sweet_Potatoes +21.5 Peaches_(can) +0.8 Pears_(can) +2 Pineapple_(can) +16.3 Asparagus_(can) +53.9 Green_Beans_(can) +3.5 Pork_and_Beans_(can) +12 Corn_(can) +34.9 Peas_(can) +53.2 Tomatoes_(can) +57.9 Tomato_Soup_(can) +86.8 Peaches,_Dried +85.7 Prunes,_Dried +4.5 Raisins,_Dried +2.9 Peas,_Dried +5.1 Lima_Beans,_Dried +0.2 Strawberry_Preserves  >= 5\n",
      " restricao_Vitamin_B1_(mg): +55.4 Wheat_Flour_(Enriched) +3.2 Macaroni +14.4 Wheat_Cereal_(Enriched) +13.5 Corn_Flakes +17.4 Corn_Meal +10.6 Hominy_Grits +2 Rice +37.1 Rolled_Oats +13.8 White_Bread_(Enriched) +13.9 Whole_Wheat_Bread +9.9 Rye_Bread +2.8 Pound_Cake +4 Milk +3 Evaporated_Milk_(can) +0.2 Oleomargarine +2.8 Eggs +0.8 Cheese_(Cheddar) +0.6 Cream +9.6 Peanut_Butter +0.4 Mayonnaise +2.1 Sirloin_Steak +2.5 Round_Steak +1 Chuck_Roast +0.9 Plate +6.4 Liver_(Beef) +2.8 Leg_of_Lamb +1.7 Lamb_Chops_(Rib) +17.4 Pork_Chops +18.2 Pork_Loin_Roast +1.8 Bacon +9.9 Ham,_smoked +1.4 Salt_Pork +0.9 Roasting_Chicken +1.4 Veal_Cutlets +1 Salmon,_Pink_(can) +3.6 Apples +2.5 Bananas +0.5 Lemons +3.6 Oranges +4.3 Green_Beans +9 Cabbage +6.1 Carrots +1.4 Celery +1.8 Lettuce +4.7 Onions +29.4 Potatoes +5.7 Spinach +8.4 Sweet_Potatoes +0.5 Peaches_(can) +0.8 Pears_(can) +2.8 Pineapple_(can) +1.4 Asparagus_(can) +1.6 Green_Beans_(can) +8.3 Pork_and_Beans_(can) +1.6 Corn_(can) +4.9 Peas_(can) +3.4 Tomatoes_(can) +3.5 Tomato_Soup_(can) +1.2 Peaches,_Dried +3.9 Prunes,_Dried +6.3 Raisins,_Dried +28.7 Peas,_Dried +26.9 Lima_Beans,_Dried +38.4 Navy_Beans,_Dried +4 Coffee +2 Cocoa +0.9 Chocolate +1.9 Molasses +0.2 Strawberry_Preserves  >= 1.8\n",
      " restricao_Vitamin_B2_(mg): +33.3 Wheat_Flour_(Enriched) +1.9 Macaroni +8.8 Wheat_Cereal_(Enriched) +2.3 Corn_Flakes +7.9 Corn_Meal +1.6 Hominy_Grits +4.8 Rice +8.9 Rolled_Oats +8.5 White_Bread_(Enriched) +6.4 Whole_Wheat_Bread +3 Rye_Bread +3 Pound_Cake +16 Milk +23.5 Evaporated_Milk_(can) +0.2 Butter +6.5 Eggs +10.3 Cheese_(Cheddar) +2.5 Cream +8.1 Peanut_Butter +0.5 Mayonnaise +0.5 Lard +2.9 Sirloin_Steak +2.4 Round_Steak +2 Rib_Roast +4 Chuck_Roast +50.8 Liver_(Beef) +3.9 Leg_of_Lamb +2.7 Lamb_Chops_(Rib) +2.7 Pork_Chops +3.6 Pork_Loin_Roast +1.8 Bacon +3.3 Ham,_smoked +1.8 Salt_Pork +1.8 Roasting_Chicken +2.4 Veal_Cutlets +4.9 Salmon,_Pink_(can) +2.7 Apples +3.5 Bananas +1.3 Oranges +5.8 Green_Beans +4.5 Cabbage +4.3 Carrots +1.4 Celery +3.4 Lettuce +5.9 Onions +7.1 Potatoes +13.8 Spinach +5.4 Sweet_Potatoes +1 Peaches_(can) +0.8 Pears_(can) +0.8 Pineapple_(can) +2.1 Asparagus_(can) +4.3 Green_Beans_(can) +7.7 Pork_and_Beans_(can) +2.7 Corn_(can) +2.5 Peas_(can) +2.5 Tomatoes_(can) +2.4 Tomato_Soup_(can) +4.3 Peaches,_Dried +4.3 Prunes,_Dried +1.4 Raisins,_Dried +18.4 Peas,_Dried +38.2 Lima_Beans,_Dried +24.6 Navy_Beans,_Dried +5.1 Coffee +2.3 Tea +11.9 Cocoa +3.4 Chocolate +7.5 Molasses +0.4 Strawberry_Preserves  >= 2.7\n",
      " restricao_Niacin_(mg): +441 Wheat_Flour_(Enriched) +68 Macaroni +114 Wheat_Cereal_(Enriched) +68 Corn_Flakes +106 Corn_Meal +110 Hominy_Grits +60 Rice +64 Rolled_Oats +126 White_Bread_(Enriched) +160 Whole_Wheat_Bread +66 Rye_Bread +17 Pound_Cake +7 Milk +11 Evaporated_Milk_(can) +2 Butter +1 Eggs +4 Cheese_(Cheddar) +471 Peanut_Butter +5 Lard +69 Sirloin_Steak +87 Round_Steak +120 Chuck_Roast +316 Liver_(Beef) +86 Leg_of_Lamb +54 Lamb_Chops_(Rib) +60 Pork_Chops +79 Pork_Loin_Roast +71 Bacon +50 Ham,_smoked +68 Roasting_Chicken +57 Veal_Cutlets +209 Salmon,_Pink_(can) +5 Apples +28 Bananas +4 Lemons +10 Oranges +37 Green_Beans +26 Cabbage +89 Carrots +9 Celery +11 Lettuce +21 Onions +198 Potatoes +33 Spinach +83 Sweet_Potatoes +31 Peaches_(can) +5 Pears_(can) +7 Pineapple_(can) +17 Asparagus_(can) +32 Green_Beans_(can) +56 Pork_and_Beans_(can) +42 Corn_(can) +37 Peas_(can) +36 Tomatoes_(can) +67 Tomato_Soup_(can) +55 Peaches,_Dried +65 Prunes,_Dried +24 Raisins,_Dried +162 Peas,_Dried +93 Lima_Beans,_Dried +217 Navy_Beans,_Dried +50 Coffee +42 Tea +40 Cocoa +14 Chocolate +5 Corn_Syrup +146 Molasses +3 Strawberry_Preserves  >= 18\n",
      " restricao_Vitamin_C_(mg): +177 Milk +60 Evaporated_Milk_(can) +17 Cream +525 Liver_(Beef) +46 Roasting_Chicken +544 Apples +498 Bananas +952 Lemons +1998 Oranges +862 Green_Beans +5369 Cabbage +608 Carrots +313 Celery +449 Lettuce +1184 Onions +2522 Potatoes +2755 Spinach +1912 Sweet_Potatoes +196 Peaches_(can) +81 Pears_(can) +399 Pineapple_(can) +272 Asparagus_(can) +431 Green_Beans_(can) +218 Corn_(can) +370 Peas_(can) +1253 Tomatoes_(can) +862 Tomato_Soup_(can) +57 Peaches,_Dried +257 Prunes,_Dried +136 Raisins,_Dried  >= 75\n",
      "Bounds\n",
      " 0 <= Wheat_Flour_(Enriched)\n",
      " 0 <= Macaroni\n",
      " 0 <= Wheat_Cereal_(Enriched)\n",
      " 0 <= Corn_Flakes\n",
      " 0 <= Corn_Meal\n",
      " 0 <= Hominy_Grits\n",
      " 0 <= Rice\n",
      " 0 <= Rolled_Oats\n",
      " 0 <= White_Bread_(Enriched)\n",
      " 0 <= Whole_Wheat_Bread\n",
      " 0 <= Rye_Bread\n",
      " 0 <= Pound_Cake\n",
      " 0 <= Soda_Crackers\n",
      " 0 <= Milk\n",
      " 0 <= Evaporated_Milk_(can)\n",
      " 0 <= Butter\n",
      " 0 <= Oleomargarine\n",
      " 0 <= Eggs\n",
      " 0 <= Cheese_(Cheddar)\n",
      " 0 <= Cream\n",
      " 0 <= Peanut_Butter\n",
      " 0 <= Mayonnaise\n",
      " 0 <= Crisco\n",
      " 0 <= Lard\n",
      " 0 <= Sirloin_Steak\n",
      " 0 <= Round_Steak\n",
      " 0 <= Rib_Roast\n",
      " 0 <= Chuck_Roast\n",
      " 0 <= Plate\n",
      " 0 <= Liver_(Beef)\n",
      " 0 <= Leg_of_Lamb\n",
      " 0 <= Lamb_Chops_(Rib)\n",
      " 0 <= Pork_Chops\n",
      " 0 <= Pork_Loin_Roast\n",
      " 0 <= Bacon\n",
      " 0 <= Ham,_smoked\n",
      " 0 <= Salt_Pork\n",
      " 0 <= Roasting_Chicken\n",
      " 0 <= Veal_Cutlets\n",
      " 0 <= Salmon,_Pink_(can)\n",
      " 0 <= Apples\n",
      " 0 <= Bananas\n",
      " 0 <= Lemons\n",
      " 0 <= Oranges\n",
      " 0 <= Green_Beans\n",
      " 0 <= Cabbage\n",
      " 0 <= Carrots\n",
      " 0 <= Celery\n",
      " 0 <= Lettuce\n",
      " 0 <= Onions\n",
      " 0 <= Potatoes\n",
      " 0 <= Spinach\n",
      " 0 <= Sweet_Potatoes\n",
      " 0 <= Peaches_(can)\n",
      " 0 <= Pears_(can)\n",
      " 0 <= Pineapple_(can)\n",
      " 0 <= Asparagus_(can)\n",
      " 0 <= Green_Beans_(can)\n",
      " 0 <= Pork_and_Beans_(can)\n",
      " 0 <= Corn_(can)\n",
      " 0 <= Peas_(can)\n",
      " 0 <= Tomatoes_(can)\n",
      " 0 <= Tomato_Soup_(can)\n",
      " 0 <= Peaches,_Dried\n",
      " 0 <= Prunes,_Dried\n",
      " 0 <= Raisins,_Dried\n",
      " 0 <= Peas,_Dried\n",
      " 0 <= Lima_Beans,_Dried\n",
      " 0 <= Navy_Beans,_Dried\n",
      " 0 <= Coffee\n",
      " 0 <= Tea\n",
      " 0 <= Cocoa\n",
      " 0 <= Chocolate\n",
      " 0 <= Sugar\n",
      " 0 <= Corn_Syrup\n",
      " 0 <= Molasses\n",
      " 0 <= Strawberry_Preserves\n",
      "End\n",
      "\n"
     ]
    }
   ],
   "source": [
    "res = solver.ExportModelAsLpFormat(False)\n",
    "print(res)"
   ]
  },
  {
   "cell_type": "code",
   "execution_count": 10,
   "metadata": {},
   "outputs": [],
   "source": [
    "status = solver.Solve()"
   ]
  },
  {
   "cell_type": "code",
   "execution_count": 11,
   "metadata": {},
   "outputs": [
    {
     "name": "stdout",
     "output_type": "stream",
     "text": [
      "Solution:\n",
      "Objective value = 0.7165\n",
      "Corn Meal = 0.0053\n",
      "Cabbage = 0.0113\n",
      "Spinach = 0.0052\n",
      "Navy Beans, Dried = 0.1031\n",
      "\n",
      "Advanced usage:\n",
      "Problem solved in 41.000000 milliseconds\n",
      "Problem solved in 17 iterations\n"
     ]
    }
   ],
   "source": [
    "if status == pywraplp.Solver.OPTIMAL:\n",
    "    print('Solution:')\n",
    "    print(f'Objective value = {solver.Objective().Value():.4f}')\n",
    "    for var in variables:\n",
    "        if var.solution_value() > 0:\n",
    "          print(f'{var} = {var.solution_value():.4f}')\n",
    "else:\n",
    "    print('The problem does not have an optimal solution.')\n",
    "\n",
    "print('\\nAdvanced usage:')\n",
    "print('Problem solved in %f milliseconds' % solver.wall_time())\n",
    "print('Problem solved in %d iterations' % solver.iterations())"
   ]
  },
  {
   "cell_type": "code",
   "execution_count": null,
   "metadata": {},
   "outputs": [],
   "source": []
  }
 ],
 "metadata": {
  "kernelspec": {
   "display_name": "base",
   "language": "python",
   "name": "python3"
  },
  "language_info": {
   "codemirror_mode": {
    "name": "ipython",
    "version": 3
   },
   "file_extension": ".py",
   "mimetype": "text/x-python",
   "name": "python",
   "nbconvert_exporter": "python",
   "pygments_lexer": "ipython3",
   "version": "3.12.4"
  }
 },
 "nbformat": 4,
 "nbformat_minor": 2
}
